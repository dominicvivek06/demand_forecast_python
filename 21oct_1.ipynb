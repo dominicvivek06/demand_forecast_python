{
 "cells": [
  {
   "cell_type": "code",
   "execution_count": 10,
   "id": "6d418a4b",
   "metadata": {},
   "outputs": [
    {
     "name": "stdout",
     "output_type": "stream",
     "text": [
      "name: Igloo Energy Supply Limited: Provisional Order|Published Date: 12 October 2021|Publication type: Orders|Industry sector: Transmission Network|Licence type: Electricity Supply Licence\n",
      "name: Symbio Energy: Provisional Order|Published Date: 12 October 2021|Publication type: Orders|Industry sector: Supply and Retail Market|Licence type: Electricity Supply Licence\n",
      "name: Nabuh Energy Limited: Final Order|Published Date: 12 October 2021|Publication type: Orders|Scheme name: RO\n",
      "name: Avro Energy Limited: Provisional Order|Published Date: 12 October 2021|Publication type: Orders|Industry sector: Supply and Retail Market|Licence type: Gas Supplier Licence …\n",
      "name: Symbio Energy Limited: Provisional Order|Published Date: 12 October 2021|Publication type: Orders|Industry sector: Supply and Retail Market|Licence type: Electricity Supply Licence\n",
      "name: Investigation into EP SHB Limited’s compliance with the TCLC|Published Date: 4 October 2021|Publication type: Investigation|Industry sector: Generation and Wholesale Market|Licence type: Electricity Generation Licence\n",
      "name: Investigation into SSE Generation Limited’s compliance with the TCLC|Published Date: 4 October 2021|Publication type: Investigation|Industry sector: Generation and Wholesale Market|Licence type: Electricity Generation Licence\n",
      "name: AmpowerUK Ltd: Notice of Proposal to make a Final Order|Published Date: 1 October 2021|Publication type: Orders|Industry sector: Supply and Retail Market|Licence type: Electricity Supply Licence\n",
      "name: Colorado Energy Limited: Notice of Proposal to make a Final Order|Published Date: 1 October 2021|Publication type: Orders|Industry sector: Supply and Retail Market|Licence type: Electricity Supply Licence\n",
      "name: Whoop Energy Ltd: Notice of Proposal to make a Final Order|Published Date: 1 October 2021|Publication type: Orders|Industry sector: Supply and Retail Market|Licence type: Electricity Supply Licence\n"
     ]
    }
   ],
   "source": [
    "from bs4 import BeautifulSoup\n",
    "\n",
    "with open(\"Compliance and enforcement - Investigations, orders and penalties _ Ofgem.html\", encoding=\"utf-8\") as fp:\n",
    "    soup = BeautifulSoup(fp, \"html.parser\")\n",
    "\n",
    "ol_list = soup.find('ol', class_='mb-0 -mt-px pt-px border-l border-color-theme md:flex md:flex-wrap')\n",
    "\n",
    "for job_element in ol_list:\n",
    "    title_element = job_element.find(\"h3\", class_=\"c-teaser__title\")\n",
    "    location_element = job_element.find(\"time\")\n",
    "    misc_info = soup.findAll('div', class_='text-color-grey-semi [ md:mr-5 ]')\n",
    "        \n",
    "    data = ''\n",
    "    data = 'name: ' + title_element.text.strip() + \"|\" + \"Published Date: \" + location_element.text.strip() + \"|\"\n",
    "    for misc in job_element:\n",
    "        for my_tag in misc.find_all(class_=\"sr-only\"):\n",
    "            data = data + my_tag.text.strip() + \": \" +  my_tag.next_sibling.next_sibling.text.strip() + \"|\"\n",
    "            \n",
    "    print (data[:-1])"
   ]
  },
  {
   "cell_type": "code",
   "execution_count": null,
   "id": "4a1e1caf",
   "metadata": {},
   "outputs": [],
   "source": []
  }
 ],
 "metadata": {
  "kernelspec": {
   "display_name": "Python 3 (ipykernel)",
   "language": "python",
   "name": "python3"
  },
  "language_info": {
   "codemirror_mode": {
    "name": "ipython",
    "version": 3
   },
   "file_extension": ".py",
   "mimetype": "text/x-python",
   "name": "python",
   "nbconvert_exporter": "python",
   "pygments_lexer": "ipython3",
   "version": "3.8.12"
  }
 },
 "nbformat": 4,
 "nbformat_minor": 5
}
